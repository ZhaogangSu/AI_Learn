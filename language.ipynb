{
 "cells": [
  {
   "cell_type": "markdown",
   "id": "1cae2d59",
   "metadata": {},
   "source": [
    "# Simple Language Model (Predict next char)\n",
    "## 1. Create Model"
   ]
  },
  {
   "cell_type": "code",
   "execution_count": 1,
   "id": "b0114e93",
   "metadata": {},
   "outputs": [],
   "source": [
    "import torch\n",
    "import torch.nn as nn\n",
    "from transformer import TransformerEncoder"
   ]
  },
  {
   "cell_type": "code",
   "execution_count": 4,
   "id": "3d5d592d",
   "metadata": {},
   "outputs": [],
   "source": [
    "class LanguageModel(nn.Module):\n",
    "    def __init__(self, vocab_size, d_model, n_heads, d_ff, n_layers, max_seq_len, droput=0.1):\n",
    "        super().__init__()\n",
    "        self.encoder = TransformerEncoder(vocab_size, d_model, n_heads, d_ff, n_layers, max_seq_len, droput)\n",
    "        self.output_proj = nn.Linear(d_model, vocab_size)\n",
    "    \n",
    "    def forward(self, x):\n",
    "        # x: (batch, seq_len) - token IDs\n",
    "        x = self.encoder(x) # (batch, seq_len, d_model)\n",
    "        logits = self.output_proj(x) # (batch, seq_len, vocab_size)\n",
    "        return logits\n",
    "        "
   ]
  },
  {
   "cell_type": "markdown",
   "id": "3f1a5c56",
   "metadata": {},
   "source": [
    "## 2. Prepare simple dataset"
   ]
  },
  {
   "cell_type": "code",
   "execution_count": 26,
   "id": "b49c8348",
   "metadata": {},
   "outputs": [
    {
     "name": "stdout",
     "output_type": "stream",
     "text": [
      "Vocab size: 27\n",
      "Characters: ['\\n', ' ', \"'\", ',', '.', 'O', 'T', 'W', 'a', 'b', 'd', 'e', 'f', 'g', 'h', 'i', 'k', 'l', 'm', 'n', 'o', 'q', 'r', 's', 't', 'u', 'w']\n",
      "Text length: 171\n"
     ]
    }
   ],
   "source": [
    "text = \"\"\"To be or not to be, that is the question.\n",
    "Whether 'tis nobler in the mind to suffer\n",
    "The slings and arrows of outrageous fortune,\n",
    "Or to take arms against a sea of troubles.\"\"\"\n",
    "\n",
    "# Create vocabulary (character-level)\n",
    "chars = sorted(list(set(text)))\n",
    "vocab_size = len(chars)\n",
    "char_to_idx = {ch: idx for idx, ch in enumerate(chars)}\n",
    "\n",
    "print(f\"Vocab size: {vocab_size}\")\n",
    "print(f\"Characters: {chars}\")\n",
    "\n",
    "# Encode text\n",
    "encoded = torch.tensor([char_to_idx[ch] for ch in text])\n",
    "print(f\"Text length: {len(encoded)}\")"
   ]
  },
  {
   "cell_type": "markdown",
   "id": "7474a04e",
   "metadata": {},
   "source": [
    "## 3. Create Dataset & DataLoader"
   ]
  },
  {
   "cell_type": "code",
   "execution_count": 82,
   "id": "6bf43f88",
   "metadata": {},
   "outputs": [
    {
     "name": "stdout",
     "output_type": "stream",
     "text": [
      "Input Shape: torch.Size([2, 2])\n",
      "Output Shape: torch.Size([2, 2])\n",
      "x1, y1: tensor([[20, 25],\n",
      "        [24, 20]])\n",
      "tensor([[25, 24],\n",
      "        [20,  1]])\n",
      "x2, y2: tensor([[ 8, 24],\n",
      "        [ 1, 24]])\n",
      "tensor([[24,  1],\n",
      "        [24,  8]])\n"
     ]
    },
    {
     "name": "stderr",
     "output_type": "stream",
     "text": [
      "/tmp/ipykernel_46233/50644840.py:17: UserWarning: To copy construct from a tensor, it is recommended to use sourceTensor.clone().detach() or sourceTensor.clone().detach().requires_grad_(True), rather than torch.tensor(sourceTensor).\n",
      "  x = torch.tensor(self.data[idx : idx + self.seq_len], dtype=torch.long)\n",
      "/tmp/ipykernel_46233/50644840.py:18: UserWarning: To copy construct from a tensor, it is recommended to use sourceTensor.clone().detach() or sourceTensor.clone().detach().requires_grad_(True), rather than torch.tensor(sourceTensor).\n",
      "  y = torch.tensor(self.data[idx + 1: idx + self.seq_len + 1], dtype=torch.long)\n"
     ]
    }
   ],
   "source": [
    "from torch.utils.data import Dataset, DataLoader\n",
    "from typing import Any\n",
    "\n",
    "class CharDataset(Dataset):\n",
    "    def __init__(self, encoded_text, seq_len) -> None:\n",
    "        super().__init__()\n",
    "        self.data = encoded_text\n",
    "        self.seq_len = seq_len\n",
    "    \n",
    "    def __len__(self):\n",
    "        return len(self.data) - self.seq_len\n",
    "    \n",
    "    def __getitem__(self, idx) -> Any:\n",
    "        # Input: seq_len tokens\n",
    "        # Output: next seq_len tokens (shifted by 1)\n",
    "        \n",
    "        x = torch.tensor(self.data[idx : idx + self.seq_len], dtype=torch.long)\n",
    "        y = torch.tensor(self.data[idx + 1: idx + self.seq_len + 1], dtype=torch.long)\n",
    "        return x, y\n",
    "\n",
    "# Create dataset\n",
    "seq_len = 2\n",
    "batch_size = 2\n",
    "dataset = CharDataset(encoded_text=encoded, seq_len=seq_len)\n",
    "dataloader = DataLoader(dataset, batch_size=batch_size, shuffle=True)\n",
    "\n",
    "# Check one batch\n",
    "x, y = next(iter(dataloader))\n",
    "x2, y2 = next(iter(dataloader))\n",
    "print(f\"Input Shape: {x.shape}\")\n",
    "print(f\"Output Shape: {y.shape}\")\n",
    "print(f\"x1, y1: {x}\\n{y}\")\n",
    "print(f\"x2, y2: {x2}\\n{y2}\")"
   ]
  },
  {
   "cell_type": "code",
   "execution_count": null,
   "id": "92a1ce75",
   "metadata": {},
   "outputs": [
    {
     "data": {
      "text/plain": [
       "False"
      ]
     },
     "execution_count": 83,
     "metadata": {},
     "output_type": "execute_result"
    }
   ],
   "source": [
    "from torch.optim import Adam\n",
    "\n",
    "vocab_size = len(chars)\n",
    "d_model = 128\n",
    "n_heads = 4\n",
    "d_ff = 512\n",
    "n_layers = 4\n",
    "max_seq_len = 128\n",
    "learning_rate = 3e-4\n",
    "n_epochs = 50\n",
    "\n",
    "# Create model\n",
    "device = \"cuda\"\n"
   ]
  }
 ],
 "metadata": {
  "kernelspec": {
   "display_name": "rl4mip",
   "language": "python",
   "name": "python3"
  },
  "language_info": {
   "codemirror_mode": {
    "name": "ipython",
    "version": 3
   },
   "file_extension": ".py",
   "mimetype": "text/x-python",
   "name": "python",
   "nbconvert_exporter": "python",
   "pygments_lexer": "ipython3",
   "version": "3.12.9"
  }
 },
 "nbformat": 4,
 "nbformat_minor": 5
}
